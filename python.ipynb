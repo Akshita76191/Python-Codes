{
 "cells": [
  {
   "cell_type": "code",
   "execution_count": 1,
   "id": "0354852b-f043-4d56-99fb-d1ddc7b83503",
   "metadata": {},
   "outputs": [
    {
     "name": "stdin",
     "output_type": "stream",
     "text": [
      "Enter fruit names separated by spaces:  mango\n",
      "Enter the fruit name to be replaced:  bannana\n",
      "Enter the new fruit name:  mango\n"
     ]
    }
   ],
   "source": [
    "def create_fruit_file():\n",
    "\n",
    "    fruit_names = input(\"Enter fruit names separated by spaces: \").split()\n",
    "\n",
    "   \n",
    "    for fruit in fruit_names:\n",
    "        filename = fruit.lower() + \".txt\"\n",
    "        with open(filename, \"w\") as f:\n",
    "            f.write(fruit)\n",
    "\n",
    "def replace_fruit_name():\n",
    "    \n",
    "    old_fruit = input(\"Enter the fruit name to be replaced: \").lower()\n",
    "    new_fruit = input(\"Enter the new fruit name: \")\n",
    "\n",
    "    \n",
    "    filename = old_fruit + \".txt\"\n",
    "    with open(filename, \"w\") as f:\n",
    "        f.write(new_fruit)\n",
    "\n",
    "create_fruit_file()\n",
    "replace_fruit_name()"
   ]
  },
  {
   "cell_type": "code",
   "execution_count": 2,
   "id": "112686e8-c44b-475e-b088-39812cf0b27b",
   "metadata": {},
   "outputs": [
    {
     "name": "stdin",
     "output_type": "stream",
     "text": [
      "Enter temperature in Celsius:  5\n"
     ]
    },
    {
     "name": "stdout",
     "output_type": "stream",
     "text": [
      "Temperature in Fahrenheit: 41.0\n"
     ]
    }
   ],
   "source": [
    "def celsius_to_fahrenheit(celsius):\n",
    "    fahrenheit = (celsius * 9/5) + 32\n",
    "    return fahrenheit\n",
    "\n",
    "\n",
    "celsius_temperature = float(input(\"Enter temperature in Celsius: \"))\n",
    "fahrenheit_temperature = celsius_to_fahrenheit(celsius_temperature)\n",
    "print(\"Temperature in Fahrenheit:\", fahrenheit_temperature)\n"
   ]
  },
  {
   "cell_type": "code",
   "execution_count": 3,
   "id": "f4f4677c-1e40-4503-9500-e0b4a307c094",
   "metadata": {},
   "outputs": [
    {
     "name": "stdout",
     "output_type": "stream",
     "text": [
      "Second largest element: 20\n"
     ]
    }
   ],
   "source": [
    "def find_second_largest(numbers):\n",
    "    \n",
    "    sorted_numbers = sorted(numbers, reverse=True)\n",
    "    \n",
    "    \n",
    "    second_largest = sorted_numbers[1]\n",
    "    \n",
    "    return second_largest\n",
    "\n",
    "\n",
    "my_list = [10, 5, 20, 15, 30]\n",
    "second_largest = find_second_largest(my_list)\n",
    "print(\"Second largest element:\", second_largest)\n"
   ]
  },
  {
   "cell_type": "code",
   "execution_count": 4,
   "id": "3b201200-4862-412d-ad91-bdab66ccae87",
   "metadata": {},
   "outputs": [
    {
     "name": "stdout",
     "output_type": "stream",
     "text": [
      "Occurrences of each element:\n",
      "1: 3\n",
      "2: 2\n",
      "3: 2\n",
      "4: 2\n",
      "5: 3\n"
     ]
    }
   ],
   "source": [
    "from collections import Counter\n",
    "\n",
    "def count_occurrences(numbers):\n",
    "    \n",
    "    occurrences = Counter(numbers)\n",
    "    \n",
    "    return occurrences\n",
    "\n",
    "\n",
    "my_list = [1, 2, 3, 1, 2, 1, 3, 4, 5, 4, 5, 5]\n",
    "occurrences = count_occurrences(my_list)\n",
    "print(\"Occurrences of each element:\")\n",
    "for element, count in occurrences.items():\n",
    "    print(f\"{element}: {count}\")\n"
   ]
  },
  {
   "cell_type": "code",
   "execution_count": 5,
   "id": "1ad85c0d-94f6-44f4-b507-789fffb3e7fb",
   "metadata": {},
   "outputs": [
    {
     "name": "stdout",
     "output_type": "stream",
     "text": [
      "Sum of even numbers: 30\n"
     ]
    }
   ],
   "source": [
    "def sum_even_numbers(numbers):\n",
    "\n",
    "    total = 0\n",
    "    \n",
    "   \n",
    "    for num in numbers:\n",
    "        if num % 2 == 0:\n",
    "            total += num\n",
    "    \n",
    "    return total\n",
    "\n",
    "\n",
    "my_list = [1, 2, 3, 4, 5, 6, 7, 8, 9, 10]\n",
    "even_sum = sum_even_numbers(my_list)\n",
    "print(\"Sum of even numbers:\", even_sum)\n"
   ]
  },
  {
   "cell_type": "code",
   "execution_count": 6,
   "id": "ce88885d-aa48-45cf-9791-3bc5998b727c",
   "metadata": {},
   "outputs": [
    {
     "name": "stdout",
     "output_type": "stream",
     "text": [
      "Number of vowels: 3\n"
     ]
    }
   ],
   "source": [
    "def count_vowels(text):\n",
    "    \n",
    "    vowels = {'a', 'e', 'i', 'o', 'u'}\n",
    "    \n",
    "    \n",
    "    count = 0\n",
    "    \n",
    "\n",
    "    for char in text.lower():\n",
    "       \n",
    "        if char in vowels:\n",
    "            count += 1\n",
    "    \n",
    "    return count\n",
    "\n",
    "\n",
    "my_string = \"Hello, World!\"\n",
    "vowel_count = count_vowels(my_string)\n",
    "print(\"Number of vowels:\", vowel_count)\n"
   ]
  },
  {
   "cell_type": "code",
   "execution_count": 7,
   "id": "a786b2d3-aa0f-48e8-8f59-562ae46effed",
   "metadata": {},
   "outputs": [
    {
     "name": "stdout",
     "output_type": "stream",
     "text": [
      "Reversed sentence: test. a is This world! Hello,\n"
     ]
    }
   ],
   "source": [
    "def reverse_words(sentence):\n",
    "    \n",
    "    words = sentence.split()\n",
    "    \n",
    "\n",
    "    reversed_words = words[::-1]\n",
    "    \n",
    "    \n",
    "    reversed_sentence = ' '.join(reversed_words)\n",
    "    \n",
    "    return reversed_sentence\n",
    "\n",
    "\n",
    "my_sentence = \"Hello, world! This is a test.\"\n",
    "reversed_sentence = reverse_words(my_sentence)\n",
    "print(\"Reversed sentence:\", reversed_sentence)\n"
   ]
  },
  {
   "cell_type": "code",
   "execution_count": 8,
   "id": "63875bca-f81a-46e2-a475-ba675526fe54",
   "metadata": {},
   "outputs": [
    {
     "ename": "SyntaxError",
     "evalue": "expected ':' (3001774889.py, line 1)",
     "output_type": "error",
     "traceback": [
      "\u001b[1;36m  Cell \u001b[1;32mIn[8], line 1\u001b[1;36m\u001b[0m\n\u001b[1;33m    class laptop\u001b[0m\n\u001b[1;37m                ^\u001b[0m\n\u001b[1;31mSyntaxError\u001b[0m\u001b[1;31m:\u001b[0m expected ':'\n"
     ]
    }
   ],
   "source": [
    "class laptop\n",
    "    def config():\n",
    "        print(\"this laptop have i5 8gm ram 1TB SSD\")"
   ]
  },
  {
   "cell_type": "code",
   "execution_count": 9,
   "id": "49d9fa43-36ea-4a7e-aa42-06f298dcee41",
   "metadata": {},
   "outputs": [
    {
     "ename": "SyntaxError",
     "evalue": "expected ':' (2404834427.py, line 1)",
     "output_type": "error",
     "traceback": [
      "\u001b[1;36m  Cell \u001b[1;32mIn[9], line 1\u001b[1;36m\u001b[0m\n\u001b[1;33m    class laptop\u001b[0m\n\u001b[1;37m                ^\u001b[0m\n\u001b[1;31mSyntaxError\u001b[0m\u001b[1;31m:\u001b[0m expected ':'\n"
     ]
    }
   ],
   "source": [
    "class laptop\n",
    "    def config():\n",
    "        print(\"this laptop have i5 8gm ram 1TB SSD\")\n",
    "\n",
    "hp = laptop()\n",
    "\n",
    "\n",
    "hp.config()"
   ]
  },
  {
   "cell_type": "code",
   "execution_count": 10,
   "id": "a5a331e0-faee-4921-998f-81ba4f61afc3",
   "metadata": {},
   "outputs": [
    {
     "name": "stdout",
     "output_type": "stream",
     "text": [
      "this laptop have i5 8gm Ram 1TB SSD\n",
      "0\n",
      "0\n"
     ]
    }
   ],
   "source": [
    "class laptop:\n",
    "    a=0\n",
    "    def config(self):\n",
    "        print(\"this laptop have i5 8gm Ram 1TB SSD\")\n",
    "\n",
    "hp = laptop()\n",
    "dell = laptop()\n",
    "lenevo = laptop()\n",
    "\n",
    "hp.config()\n",
    "print(hp.a)\n",
    "hp.a=hp.a+1\n",
    "print(dell.a)"
   ]
  },
  {
   "cell_type": "code",
   "execution_count": null,
   "id": "8d737f0b-cd19-4930-8d7f-857527cdb9e8",
   "metadata": {},
   "outputs": [],
   "source": [
    "create a laptop class\n",
    "with variable as processor,Ram and storage\n",
    "\n",
    "create function to print the configuration of the laptops.\n",
    "\n",
    "create 3 object of laptop with different brand and dispaly its configuration\n"
   ]
  },
  {
   "cell_type": "code",
   "execution_count": 11,
   "id": "396c1260-590c-4af6-9e14-5f0eb78a21b2",
   "metadata": {},
   "outputs": [
    {
     "name": "stdout",
     "output_type": "stream",
     "text": [
      "Laptop 1 specs:\n",
      "Processor: Intel Core i5\n",
      "RAM: 8GB\n",
      "Storage: 512GB SSD\n",
      "\n",
      "Laptop 2 specs:\n",
      "Processor: AMD Ryzen 7\n",
      "RAM: 16GB\n",
      "Storage: 1TB HDD\n"
     ]
    }
   ],
   "source": [
    "class Laptop:\n",
    "    def __init__(self, processor, ram, storage):\n",
    "        self.processor = processor\n",
    "        self.ram = ram\n",
    "        self.storage = storage\n",
    "\n",
    "    def display_specs(self):\n",
    "        print(\"Processor:\", self.processor)\n",
    "        print(\"RAM:\", self.ram)\n",
    "        print(\"Storage:\", self.storage)\n",
    "\n",
    "\n",
    "laptop1 = Laptop(\"Intel Core i5\", \"8GB\", \"512GB SSD\")\n",
    "laptop2 = Laptop(\"AMD Ryzen 7\", \"16GB\", \"1TB HDD\")\n",
    "\n",
    "print(\"Laptop 1 specs:\")\n",
    "laptop1.display_specs()\n",
    "\n",
    "print(\"\\nLaptop 2 specs:\")\n",
    "laptop2.display_specs()\n"
   ]
  },
  {
   "cell_type": "code",
   "execution_count": 12,
   "id": "57b73b2a-4986-4c0a-84bd-62f00e06ebef",
   "metadata": {},
   "outputs": [
    {
     "name": "stdout",
     "output_type": "stream",
     "text": [
      "Laptop Configuration:\n",
      "Processor: Intel Core i5\n",
      "RAM: 8GB\n",
      "Storage: 512GB SSD\n",
      "\n",
      "\n",
      "Laptop Configuration:\n",
      "Processor: AMD Ryzen 7\n",
      "RAM: 16GB\n",
      "Storage: 1TB HDD\n"
     ]
    }
   ],
   "source": [
    "class Laptop:\n",
    "    def __init__(self, processor, ram, storage):\n",
    "        self.processor = processor\n",
    "        self.ram = ram\n",
    "        self.storage = storage\n",
    "\n",
    "    def display_specs(self):\n",
    "        print(\"Processor:\", self.processor)\n",
    "        print(\"RAM:\", self.ram)\n",
    "        print(\"Storage:\", self.storage)\n",
    "\n",
    "def print_laptop_config(laptop):\n",
    "    print(\"Laptop Configuration:\")\n",
    "    laptop.display_specs()\n",
    "\n",
    "\n",
    "laptop1 = Laptop(\"Intel Core i5\", \"8GB\", \"512GB SSD\")\n",
    "laptop2 = Laptop(\"AMD Ryzen 7\", \"16GB\", \"1TB HDD\")\n",
    "\n",
    "print_laptop_config(laptop1)\n",
    "print(\"\\n\")\n",
    "print_laptop_config(laptop2)\n"
   ]
  },
  {
   "cell_type": "code",
   "execution_count": 13,
   "id": "57a439b9-e6c9-4aae-adb7-990eda2de2e9",
   "metadata": {},
   "outputs": [
    {
     "name": "stdout",
     "output_type": "stream",
     "text": [
      "Laptop 1 Configuration:\n",
      "Brand: Dell\n",
      "Processor: Intel Core i5\n",
      "RAM: 8GB\n",
      "Storage: 512GB SSD\n",
      "\n",
      "\n",
      "Laptop 2 Configuration:\n",
      "Brand: HP\n",
      "Processor: AMD Ryzen 7\n",
      "RAM: 16GB\n",
      "Storage: 1TB HDD\n",
      "\n",
      "\n",
      "Laptop 3 Configuration:\n",
      "Brand: Apple\n",
      "Processor: Apple M1\n",
      "RAM: 16GB\n",
      "Storage: 512GB SSD\n"
     ]
    }
   ],
   "source": [
    "class Laptop:\n",
    "    def __init__(self, brand, processor, ram, storage):\n",
    "        self.brand = brand\n",
    "        self.processor = processor\n",
    "        self.ram = ram\n",
    "        self.storage = storage\n",
    "\n",
    "    def display_specs(self):\n",
    "        print(\"Brand:\", self.brand)\n",
    "        print(\"Processor:\", self.processor)\n",
    "        print(\"RAM:\", self.ram)\n",
    "        print(\"Storage:\", self.storage)\n",
    "\n",
    "laptop1 = Laptop(\"Dell\", \"Intel Core i5\", \"8GB\", \"512GB SSD\")\n",
    "laptop2 = Laptop(\"HP\", \"AMD Ryzen 7\", \"16GB\", \"1TB HDD\")\n",
    "laptop3 = Laptop(\"Apple\", \"Apple M1\", \"16GB\", \"512GB SSD\")\n",
    "\n",
    "print(\"Laptop 1 Configuration:\")\n",
    "laptop1.display_specs()\n",
    "print(\"\\n\")\n",
    "\n",
    "print(\"Laptop 2 Configuration:\")\n",
    "laptop2.display_specs()\n",
    "print(\"\\n\")\n",
    "\n",
    "print(\"Laptop 3 Configuration:\")\n",
    "laptop3.display_specs()\n"
   ]
  },
  {
   "cell_type": "code",
   "execution_count": null,
   "id": "ac03e5df-723c-4980-b338-9f0816a24ca1",
   "metadata": {},
   "outputs": [],
   "source": [
    "create a class student which can hold the marks in 5 subjects and also create a functions to print the marks and calculate the avg of 5 subjects\n"
   ]
  },
  {
   "cell_type": "code",
   "execution_count": 14,
   "id": "c3c9aa79-73c1-4b25-9c2a-4ec37256bfd0",
   "metadata": {},
   "outputs": [
    {
     "name": "stdout",
     "output_type": "stream",
     "text": [
      "Marks of Alice:\n",
      "Maths: 85\n",
      "Science: 90\n",
      "English: 75\n",
      "History: 80\n",
      "Geography: 88\n",
      "Average Marks: 83.6\n",
      "\n",
      "\n",
      "Marks of Bob:\n",
      "Maths: 78\n",
      "Science: 82\n",
      "English: 70\n",
      "History: 75\n",
      "Geography: 80\n",
      "Average Marks: 77.0\n"
     ]
    }
   ],
   "source": [
    "class Student:\n",
    "    def __init__(self, name, marks):\n",
    "        self.name = name\n",
    "        self.marks = marks\n",
    "\n",
    "    def print_marks(self):\n",
    "        print(f\"Marks of {self.name}:\")\n",
    "        for subject, mark in self.marks.items():\n",
    "            print(f\"{subject}: {mark}\")\n",
    "\n",
    "    def calculate_avg(self):\n",
    "        total_marks = sum(self.marks.values())\n",
    "        avg_marks = total_marks / len(self.marks)\n",
    "        return avg_marks\n",
    "\n",
    "student1_marks = {'Maths': 85, 'Science': 90, 'English': 75, 'History': 80, 'Geography': 88}\n",
    "student1 = Student(\"Alice\", student1_marks)\n",
    "\n",
    "student2_marks = {'Maths': 78, 'Science': 82, 'English': 70, 'History': 75, 'Geography': 80}\n",
    "student2 = Student(\"Bob\", student2_marks)\n",
    "\n",
    "student1.print_marks()\n",
    "print(\"Average Marks:\", student1.calculate_avg())\n",
    "print(\"\\n\")\n",
    "student2.print_marks()\n",
    "print(\"Average Marks:\", student2.calculate_avg())\n"
   ]
  },
  {
   "cell_type": "code",
   "execution_count": 1,
   "id": "f7f6e020-2db4-4efa-8896-d9566b1d2805",
   "metadata": {},
   "outputs": [
    {
     "name": "stdin",
     "output_type": "stream",
     "text": [
      "Enter a character:  1\n"
     ]
    },
    {
     "name": "stdout",
     "output_type": "stream",
     "text": [
      "1 is a numeric character.\n"
     ]
    }
   ],
   "source": [
    "def identify_character(char):\n",
    "    if char.islower():\n",
    "        print(f\"{char} is a lower case character.\")\n",
    "    elif char.isupper():\n",
    "        print(f\"{char} is an upper case character.\")\n",
    "    elif char.isdigit():\n",
    "        print(f\"{char} is a numeric character.\")\n",
    "    else:\n",
    "        print(f\"{char} is a special character.\")\n",
    "\n",
    "if __name__ == \"__main__\":\n",
    "    input_char = input(\"Enter a character: \")\n",
    "    if len(input_char) == 1:\n",
    "        identify_character(input_char)\n",
    "    else:\n",
    "        print(\"Please enter only one character.\")\n"
   ]
  },
  {
   "cell_type": "code",
   "execution_count": 4,
   "id": "a52233db-841d-4e37-9e78-0efe2adf00d6",
   "metadata": {},
   "outputs": [
    {
     "name": "stdin",
     "output_type": "stream",
     "text": [
      "Enter a string:  no\n"
     ]
    },
    {
     "name": "stdout",
     "output_type": "stream",
     "text": [
      "No, the string is not a palindrome.\n"
     ]
    }
   ],
   "source": [
    "def is_palindrome(s):\n",
    "    s = s.replace(\" \", \"\").lower()\n",
    "    return s == s[::-1]\n",
    "\n",
    "if __name__ == \"__main__\":\n",
    "    input_string = input(\"Enter a string: \")\n",
    "    if is_palindrome(input_string):\n",
    "        print(\"Yes, the string is a palindrome.\")\n",
    "    else:\n",
    "        print(\"No, the string is not a palindrome.\")\n"
   ]
  },
  {
   "cell_type": "code",
   "execution_count": 6,
   "id": "4381f7c9-8f0c-4440-9112-611f2d9698d4",
   "metadata": {},
   "outputs": [
    {
     "name": "stdin",
     "output_type": "stream",
     "text": [
      "Enter a number:  31\n"
     ]
    },
    {
     "name": "stdout",
     "output_type": "stream",
     "text": [
      "Reversed number: 13\n"
     ]
    }
   ],
   "source": [
    "def reverse_digits(number):\n",
    "    is_negative = False\n",
    "    if number < 0:\n",
    "        is_negative = True\n",
    "        number = abs(number)\n",
    "    \n",
    "    number_str = str(number)\n",
    "    reversed_number = int(number_str[::-1])\n",
    "\n",
    "    if is_negative:\n",
    "        reversed_number *= -1\n",
    "\n",
    "    return reversed_number\n",
    "\n",
    "if __name__ == \"__main__\":\n",
    "    input_number = int(input(\"Enter a number: \"))\n",
    "    reversed_number = reverse_digits(input_number)\n",
    "    print(\"Reversed number:\", reversed_number)\n"
   ]
  },
  {
   "cell_type": "code",
   "execution_count": 7,
   "id": "fe1e145a-f4a6-4103-b1f6-81ab9a07b5e7",
   "metadata": {},
   "outputs": [
    {
     "name": "stdin",
     "output_type": "stream",
     "text": [
      "Enter the limit for prime numbers:  6\n"
     ]
    },
    {
     "name": "stdout",
     "output_type": "stream",
     "text": [
      "Prime numbers up to 6 are:\n",
      "[2, 3, 5]\n"
     ]
    }
   ],
   "source": [
    "def is_prime(n):\n",
    "    \"\"\"Function to check if a number is prime.\"\"\"\n",
    "    if n <= 1:\n",
    "        return False\n",
    "    elif n <= 3:\n",
    "        return True\n",
    "    elif n % 2 == 0 or n % 3 == 0:\n",
    "        return False\n",
    "    i = 5\n",
    "    while i * i <= n:\n",
    "        if n % i == 0 or n % (i + 2) == 0:\n",
    "            return False\n",
    "        i += 6\n",
    "    return True\n",
    "\n",
    "def generate_primes(limit):\n",
    "    \"\"\"Function to generate prime numbers up to a specified limit.\"\"\"\n",
    "    primes = []\n",
    "    for num in range(2, limit + 1):\n",
    "        if is_prime(num):\n",
    "            primes.append(num)\n",
    "    return primes\n",
    "\n",
    "limit = int(input(\"Enter the limit for prime numbers: \"))\n",
    "print(\"Prime numbers up to\", limit, \"are:\")\n",
    "print(generate_primes(limit))\n"
   ]
  },
  {
   "cell_type": "code",
   "execution_count": 8,
   "id": "7152dacd-7439-4731-a645-fa4fbd2bab4e",
   "metadata": {},
   "outputs": [
    {
     "name": "stdin",
     "output_type": "stream",
     "text": [
      "Enter a number to find its factorial:  5\n"
     ]
    },
    {
     "name": "stdout",
     "output_type": "stream",
     "text": [
      "Factorial of 5 is: 120\n"
     ]
    }
   ],
   "source": [
    "def factorial(n):\n",
    "    \"\"\"Function to calculate the factorial of a number.\"\"\"\n",
    "    if n == 0:\n",
    "        return 1\n",
    "    else:\n",
    "        return n * factorial(n - 1)\n",
    "\n",
    "num = int(input(\"Enter a number to find its factorial: \"))\n",
    "print(\"Factorial of\", num, \"is:\", factorial(num))\n"
   ]
  },
  {
   "cell_type": "code",
   "execution_count": 9,
   "id": "6638cf03-5b06-42f1-b7e5-5760bf6fa735",
   "metadata": {},
   "outputs": [
    {
     "name": "stdout",
     "output_type": "stream",
     "text": [
      "The list is: [1, 2, 3, 4, 5, 'a', 6, 7, 'b', 8, 9, 10]\n",
      "Non-numeric value found: a\n",
      "Non-numeric value found: b\n",
      "Sum of all numeric elements in the list: 55\n"
     ]
    }
   ],
   "source": [
    "def sum_list_elements(lst):\n",
    "    \"\"\"Function to find the sum of all elements in a list.\"\"\"\n",
    "    total = 0\n",
    "    for element in lst:\n",
    "        if isinstance(element, (int, float)):\n",
    "            total += element\n",
    "        else:\n",
    "            print(\"Non-numeric value found:\", element)\n",
    "    return total\n",
    "\n",
    "my_list = [1, 2, 3, 4, 5, 'a', 6, 7, 'b', 8, 9, 10]\n",
    "print(\"The list is:\", my_list)\n",
    "print(\"Sum of all numeric elements in the list:\", sum_list_elements(my_list))\n"
   ]
  },
  {
   "cell_type": "code",
   "execution_count": 10,
   "id": "71f9a3a7-92dc-4b0e-a96b-f0acefde6905",
   "metadata": {},
   "outputs": [
    {
     "name": "stdout",
     "output_type": "stream",
     "text": [
      "Dictionary of students and their grades: {'Alice': 85, 'Bob': 92, 'Charlie': 78, 'David': 90}\n",
      "Average grade: 86.25\n"
     ]
    }
   ],
   "source": [
    "def calculate_average_grade(grades_dict):\n",
    "    \"\"\"Function to calculate the average grade from a dictionary.\"\"\"\n",
    "    if not grades_dict:\n",
    "        print(\"The dictionary is empty.\")\n",
    "        return None\n",
    "    \n",
    "    total_grades = sum(grades_dict.values())\n",
    "    average_grade = total_grades / len(grades_dict)\n",
    "    return average_grade\n",
    "\n",
    "students_grades = {'Alice': 85, 'Bob': 92, 'Charlie': 78, 'David': 90}\n",
    "\n",
    "print(\"Dictionary of students and their grades:\", students_grades)\n",
    "\n",
    "average = calculate_average_grade(students_grades)\n",
    "if average is not None:\n",
    "    print(\"Average grade:\", average)\n"
   ]
  },
  {
   "cell_type": "code",
   "execution_count": null,
   "id": "392af925-1ee1-4270-adb2-5a2dedaa2a42",
   "metadata": {},
   "outputs": [],
   "source": []
  }
 ],
 "metadata": {
  "kernelspec": {
   "display_name": "Python 3 (ipykernel)",
   "language": "python",
   "name": "python3"
  },
  "language_info": {
   "codemirror_mode": {
    "name": "ipython",
    "version": 3
   },
   "file_extension": ".py",
   "mimetype": "text/x-python",
   "name": "python",
   "nbconvert_exporter": "python",
   "pygments_lexer": "ipython3",
   "version": "3.12.3"
  },
  "widgets": {
   "application/vnd.jupyter.widget-state+json": {
    "state": {},
    "version_major": 2,
    "version_minor": 0
   }
  }
 },
 "nbformat": 4,
 "nbformat_minor": 5
}
